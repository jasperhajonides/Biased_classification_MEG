{
 "cells": [
  {
   "cell_type": "markdown",
   "metadata": {},
   "source": [
    "# Multiple and Dissociable Effects of Sensory History on Working-Memory Performance"
   ]
  },
  {
   "cell_type": "markdown",
   "metadata": {},
   "source": [
    "Code for decoding and bias calculation for the associated paper on BioRxiv\n",
    "https://www.biorxiv.org/content/10.1101/2021.10.31.466639v2"
   ]
  },
  {
   "cell_type": "code",
   "execution_count": 27,
   "metadata": {},
   "outputs": [
    {
     "name": "stdout",
     "output_type": "stream",
     "text": [
      "The autoreload extension is already loaded. To reload it, use:\n",
      "  %reload_ext autoreload\n"
     ]
    }
   ],
   "source": [
    "# import packages\n",
    "import os\n",
    "import numpy as np\n",
    "import scipy.io\n",
    "from wmbias_configs import *\n",
    "import pycircstat\n",
    "%load_ext autoreload\n",
    "%autoreload 2\n",
    "\n",
    "projectloc = '/Users/jasperhajonides/Documents/EXP8_UpdProtec/'\n"
   ]
  },
  {
   "cell_type": "code",
   "execution_count": 2,
   "metadata": {},
   "outputs": [],
   "source": [
    "#imports\n",
    "\n",
    "fitting_params = scipy.io.loadmat(projectloc + '/data/Fitting_params_Biases.mat')\n",
    "post_s = scipy.io.loadmat(projectloc + '/MEG/analyses/Channel_selection/posterior_electrodes.mat')\n",
    "neighb = scipy.io.loadmat(projectloc + '/data/channels/neighbours.mat')\n"
   ]
  },
  {
   "cell_type": "markdown",
   "metadata": {},
   "source": [
    "# Run decoding + bias computation"
   ]
  },
  {
   "cell_type": "code",
   "execution_count": 35,
   "metadata": {
    "scrolled": true
   },
   "outputs": [
    {
     "name": "stdout",
     "output_type": "stream",
     "text": [
      "running S01\n",
      "loaded data\n",
      "running S02\n",
      "loaded data\n",
      "running S03\n",
      "loaded data\n",
      "running S04\n",
      "loaded data\n",
      "running S05\n",
      "loaded data\n",
      "running S06\n",
      "loaded data\n",
      "running S07\n",
      "loaded data\n",
      "running S08\n",
      "loaded data\n",
      "running S09\n",
      "loaded data\n",
      "running S10\n",
      "loaded data\n",
      "running S11\n",
      "loaded data\n",
      "running S12\n",
      "loaded data\n",
      "running S13\n",
      "loaded data\n",
      "running S14\n",
      "loaded data\n",
      "running S15\n",
      "loaded data\n",
      "running S16\n",
      "loaded data\n",
      "running S17\n",
      "loaded data\n",
      "running S18\n",
      "loaded data\n",
      "running S19\n",
      "loaded data\n",
      "running S20\n",
      "loaded data\n"
     ]
    }
   ],
   "source": [
    "classifier_output = np.zeros((260, 20, 3))\n",
    "shift = np.zeros((260, 20))\n",
    "right = np.zeros((10, 260, 20))\n",
    "left = np.zeros((10, 260, 20))\n",
    "\n",
    "# Run decoding and bias computation for all subjects.\n",
    "for sb_count in range(0,20):\n",
    "  \n",
    "    # obtain configuration for the selected condition:\n",
    "    # - 'between_trials'\n",
    "    # - 'within_trial_update'\n",
    "    # - 'within_trial_protect'\n",
    "    config = get_config(sb_count, 'within_trial_protect', size_window = 30)\n",
    "    \n",
    "    # obtain decoding evidence for selected condition\n",
    "    evidence = decoding_function(config, overwrite = True)\n",
    "\n",
    "    \n",
    "    # Read in all behavioural data and select the right participant\n",
    "    df_read = pd.read_csv(projectloc + '/data/behavioural/all_behavioural_May2021.csv')\n",
    "    df_read = df_read.loc[(df_read['subject'] == sb_count), :]\n",
    "    \n",
    "    # Subselect the \n",
    "    inx = df_read['stimulus_nr'].isin(config['stimulus_nr'])\n",
    "    inx2 = df_read[list(config['trial_subselection'].keys())[0]].isin(\n",
    "        list(config['trial_subselection'].values())[0])[inx]\n",
    "    evidence['single_trial_evidence_store'] = evidence['single_trial_evidence'][inx2]\n",
    "\n",
    "\n",
    "\n",
    "    # convolve with cosine and obtain evidence.\n",
    "    # Compute the classifier evidence for the following angles. \n",
    "    for i, name in enumerate(['prev_probe_ang','stim1', 'presented']):\n",
    "        evidence['single_trial_evidence'] = evidence['single_trial_evidence_store']\n",
    "        y, evidence['y'] = bin_array(np.array(df_read[name])[inx][inx2],config['nr_bins'])\n",
    "        evidence = cos_convolve(evidence)\n",
    "        classifier_output[:,sb_count,i] = evidence['cos_convolved']\n",
    "    \n",
    "\n",
    "    \n",
    "    # get the angular difference between the presented grating and the angle \n",
    "    # that is expected to generate the bias (eiter stimulus 1 (within trial \n",
    "    # bias) or the probed orientation on the previous trial (between trial \n",
    "    # bias))\n",
    "    df_read['angular_difference'] = pycircstat.cdiff(df_read[config['bias_source']],\n",
    "                                                      df_read['presented'])\n",
    "  \n",
    "    # find the trials that have the appropriate angular difference within range\n",
    "    # now from the decoding evidence we select trials with an angular \n",
    "    # difference that biases orientations to the right/negative, or to the \n",
    "    # left/positive. \n",
    "    right_diffs = ((df_read['angular_difference'][inx][inx2] >= config['min_deg']/90*np.pi) & \n",
    "                   (df_read['angular_difference'][inx][inx2] < config['max_dex']/90*np.pi))\n",
    "    right[:,:,sb_count] = evidence['single_trial_ev_centered'][right_diffs,:,:].mean(0)\n",
    "    \n",
    "    left_diffs = ((df_read['angular_difference'][inx][inx2] <= -config['min_deg']/90*np.pi) &\n",
    "                  (df_read['angular_difference'][inx][inx2] > -config['max_dex']/90*np.pi))\n",
    "    left[:,:,sb_count] = evidence['single_trial_ev_centered'][left_diffs,:,:].mean(0)\n",
    "    \n",
    "    # the decoding evidence provides us with tuning curves. We like to know \n",
    "    # if the tuning curves are systematically shifted to either direction. \n",
    "    # to this end we subtract the evidence right from the centre from the \n",
    "    # decoding evidence left from the centre. \n",
    "    # This will give us a metric of asymmetry or shift in the tuning curve.\n",
    "    shift[:,sb_count] = ((left[0:4,:,sb_count].mean(0) - \n",
    "                          left[5:9,:,sb_count].mean(0)) - \n",
    "                         (right[0:4,:,sb_count].mean(0) - \n",
    "                          right[5:9,:,sb_count].mean(0))) \n"
   ]
  }
 ],
 "metadata": {
  "kernelspec": {
   "display_name": "Python 3",
   "language": "python",
   "name": "python3"
  },
  "language_info": {
   "codemirror_mode": {
    "name": "ipython",
    "version": 3
   },
   "file_extension": ".py",
   "mimetype": "text/x-python",
   "name": "python",
   "nbconvert_exporter": "python",
   "pygments_lexer": "ipython3",
   "version": "3.8.5"
  }
 },
 "nbformat": 4,
 "nbformat_minor": 4
}
